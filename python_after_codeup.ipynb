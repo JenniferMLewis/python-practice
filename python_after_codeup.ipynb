{
 "cells": [
  {
   "cell_type": "markdown",
   "metadata": {},
   "source": [
    "### Learning Python outside of Pandas and other DS Libraries\n",
    "\n",
    "#### Python Classes and Objects"
   ]
  },
  {
   "cell_type": "code",
   "execution_count": 31,
   "metadata": {},
   "outputs": [
    {
     "name": "stdout",
     "output_type": "stream",
     "text": [
      "For the main course, we have 12lbs of turkey.\n"
     ]
    }
   ],
   "source": [
    "# since it's thanksgiving we'll go with that theme\n",
    "class MyThanksgiving:\n",
    "    def __init__(self, dish, food, amount):\n",
    "        self.dish = dish\n",
    "        self.food = food\n",
    "        self.amount = amount\n",
    "    \n",
    "    def whatfood(meal):\n",
    "        print(f\"For the {meal.dish}, we have {meal.amount} of {meal.food}.\")\n",
    "\n",
    "appetizer = MyThanksgiving(\"appetizer\", \"salad\", \"one bowl\")\n",
    "main_course = MyThanksgiving(\"main course\", \"turkey\", \"12lbs\")\n",
    "side_dishes = MyThanksgiving(\"side dishes\", \"green beans, mashed potatoes, and candied yams\", \"5 cups\")\n",
    "dessert = MyThanksgiving(\"dessert\", \"Pecan Pie\", \"2lbs\")\n",
    "\n",
    "main_course.whatfood()"
   ]
  },
  {
   "cell_type": "code",
   "execution_count": 32,
   "metadata": {},
   "outputs": [
    {
     "name": "stdout",
     "output_type": "stream",
     "text": [
      "For the dessert, we have 2lbs of Pecan Pie.\n"
     ]
    }
   ],
   "source": [
    "dessert.whatfood()"
   ]
  },
  {
   "cell_type": "code",
   "execution_count": 33,
   "metadata": {},
   "outputs": [
    {
     "name": "stdout",
     "output_type": "stream",
     "text": [
      "For the side dishes, we have 5 cups of green beans, mashed potatoes, and candied yams.\n"
     ]
    }
   ],
   "source": [
    "side_dishes.whatfood()"
   ]
  },
  {
   "cell_type": "code",
   "execution_count": 34,
   "metadata": {},
   "outputs": [
    {
     "name": "stdout",
     "output_type": "stream",
     "text": [
      "For the appetizer, we have one bowl of salad.\n"
     ]
    }
   ],
   "source": [
    "appetizer.whatfood()"
   ]
  },
  {
   "cell_type": "markdown",
   "metadata": {},
   "source": [
    "This is interesting because the functions will only work with things labeled \"MyThanksgiving\".<br>\n",
    "This can really help limit what can be thrown into functions."
   ]
  },
  {
   "cell_type": "markdown",
   "metadata": {},
   "source": [
    "Could be very interesting for programming, I'm not sure how to use it for Data Science, but I'll keep a look out for it!"
   ]
  },
  {
   "cell_type": "markdown",
   "metadata": {},
   "source": [
    "##### Inheritence (Parent and Child Classes)"
   ]
  },
  {
   "cell_type": "markdown",
   "metadata": {},
   "source": [
    "So we create a parent class (Person), then create a subclass (Student) [Pass keeping only Person features]."
   ]
  },
  {
   "cell_type": "code",
   "execution_count": 35,
   "metadata": {},
   "outputs": [
    {
     "name": "stdout",
     "output_type": "stream",
     "text": [
      "John Doe\n"
     ]
    }
   ],
   "source": [
    "class Person:\n",
    "  def __init__(self, fname, lname):\n",
    "    self.firstname = fname\n",
    "    self.lastname = lname\n",
    "\n",
    "  def printname(self):\n",
    "    print(self.firstname, self.lastname)\n",
    "\n",
    "#Use the Person class to create an object, and then execute the printname method:\n",
    "\n",
    "x = Person(\"John\", \"Doe\")\n",
    "x.printname()"
   ]
  },
  {
   "cell_type": "code",
   "execution_count": 36,
   "metadata": {},
   "outputs": [],
   "source": [
    "class Student(Person):\n",
    "  pass\n",
    "# Note: Use the |pass| keyword when you do not want to add any other properties or methods to the class."
   ]
  },
  {
   "cell_type": "code",
   "execution_count": 37,
   "metadata": {},
   "outputs": [
    {
     "name": "stdout",
     "output_type": "stream",
     "text": [
      "Mike Olsen\n"
     ]
    }
   ],
   "source": [
    "x = Student(\"Mike\", \"Olsen\")\n",
    "x.printname()"
   ]
  },
  {
   "cell_type": "markdown",
   "metadata": {},
   "source": [
    "But, what about using Student ones as well??"
   ]
  },
  {
   "cell_type": "code",
   "execution_count": 77,
   "metadata": {},
   "outputs": [],
   "source": [
    "class Student(Person):\n",
    "    def __init__(self, fname, lname, subject):\n",
    "        self.firstname = fname\n",
    "        self.lastname = lname\n",
    "        self.subject = subject\n",
    "    def whatsub(self):\n",
    "        self.printname()\n",
    "        print(f\"is a Student of {self.subject}.\")"
   ]
  },
  {
   "cell_type": "code",
   "execution_count": 78,
   "metadata": {},
   "outputs": [
    {
     "name": "stdout",
     "output_type": "stream",
     "text": [
      "Mike Olsen\n",
      "Chemistry\n"
     ]
    }
   ],
   "source": [
    "x = Student(\"Mike\", \"Olsen\", \"Chemistry\")\n",
    "x.printname()\n",
    "print(x.subject)"
   ]
  },
  {
   "cell_type": "code",
   "execution_count": 79,
   "metadata": {},
   "outputs": [
    {
     "name": "stdout",
     "output_type": "stream",
     "text": [
      "Mike Olsen\n",
      "is a Student of Chemistry.\n"
     ]
    }
   ],
   "source": [
    "x.whatsub()"
   ]
  },
  {
   "cell_type": "markdown",
   "metadata": {},
   "source": [
    "I was hoping to get one that I could call printname from the previous and use it for what sub, but I think I'd have to have one that returned the name instead of printed it. Thanksgiving is starting in 15 so I'll work on that later! Happy Holidays and I hope you're well."
   ]
  }
 ],
 "metadata": {
  "kernelspec": {
   "display_name": "Python 3.9.12 ('base')",
   "language": "python",
   "name": "python3"
  },
  "language_info": {
   "codemirror_mode": {
    "name": "ipython",
    "version": 3
   },
   "file_extension": ".py",
   "mimetype": "text/x-python",
   "name": "python",
   "nbconvert_exporter": "python",
   "pygments_lexer": "ipython3",
   "version": "3.9.12"
  },
  "orig_nbformat": 4,
  "vscode": {
   "interpreter": {
    "hash": "3067ead486e059ec00ffe7555bdb889e6e264a24dc711bf108106cc7baee8d5d"
   }
  }
 },
 "nbformat": 4,
 "nbformat_minor": 2
}
